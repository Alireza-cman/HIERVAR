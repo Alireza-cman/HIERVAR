{
 "cells": [
  {
   "cell_type": "code",
   "execution_count": null,
   "id": "6c24dc64-717b-4896-9822-8f2b5c245818",
   "metadata": {},
   "outputs": [],
   "source": [
    "import RASTER\n",
    "import why\n",
    "import classifier\n",
    "import utils\n",
    "import numpy as np\n",
    "import warnings\n",
    "warnings.filterwarnings('ignore')"
   ]
  },
  {
   "cell_type": "code",
   "execution_count": null,
   "id": "6e4ff02b-0ac5-40af-a4d3-08be0485c2f8",
   "metadata": {},
   "outputs": [],
   "source": [
    "import importlib\n",
    "importlib.reload(utils)"
   ]
  },
  {
   "cell_type": "code",
   "execution_count": null,
   "id": "1c274707-7a3c-4e57-9f90-f9ec043bfca1",
   "metadata": {},
   "outputs": [],
   "source": [
    "x_train , y_train , x_test, y_test = utils.load_dataset('CinCECGTorso',verbose=False)\n",
    "x_train = x_train.astype(np.float32)\n",
    "x_test = x_test.astype(np.float32)"
   ]
  },
  {
   "cell_type": "code",
   "execution_count": null,
   "id": "2604975b-b2c9-4ee8-be39-db16ab22e27f",
   "metadata": {},
   "outputs": [],
   "source": [
    "x_train_trans_mini , x_test_trans_mini ,parameter_raster= RASTER.MiniROCKET(x_train,y_train, x_test,y_test,n_features=10000,shuffle_quant=False)\n",
    "accuracy_mini , _, clf  = classifier.classic_classifier(x_train_trans_mini, y_train, x_test_trans_mini, y_test)\n",
    "print(\"Number of Features: \", x_train_trans_mini.shape[1], \"Accuracy: \",accuracy_mini)"
   ]
  },
  {
   "cell_type": "code",
   "execution_count": null,
   "id": "d641475c-3a9d-401b-a831-676bb7ac5f39",
   "metadata": {},
   "outputs": [],
   "source": [
    "result, erocket_index , selected_mean = why.anova_erocket_pruner(x_train_trans_mini,y_train, threshold=None,divider=2,verbose=False)\n",
    "accuracy_erocket_modified , _ , _ = classifier.classic_classifier(x_train_trans_mini[:,result], y_train , x_test_trans_mini[:,result],y_test)\n",
    "print(\"Number of Features: \", len(result), \"Accuracy: \",accuracy_erocket_modified)"
   ]
  },
  {
   "cell_type": "code",
   "execution_count": null,
   "id": "5cc062ab-5c19-4935-91c3-faa20ba97e34",
   "metadata": {},
   "outputs": [],
   "source": [
    "x_train_trans_raster , x_test_trans_raster ,parameter_raster= RASTER.RASTER(x_train,y_train, x_test,y_test,n_features=10000,shuffle_quant=False)\n",
    "accuracy_raster , _, clf  = classifier.classic_classifier(x_train_trans_raster, y_train, x_test_trans_raster, y_test)\n",
    "print(\"Number of Features: \", x_train_trans_raster.shape[1], \"Accuracy: \",accuracy_raster)"
   ]
  },
  {
   "cell_type": "code",
   "execution_count": null,
   "id": "e34448bf-1dba-46db-be27-6b13f9303e75",
   "metadata": {},
   "outputs": [],
   "source": [
    "result, erocket_index , selected_mean = why.anova_erocket_pruner(x_train_trans_raster,y_train, threshold=None,divider=2,verbose=False)\n",
    "accuracy_erocket_modified , _ , _ = classifier.classic_classifier(x_train_trans_raster[:,result], y_train , x_test_trans_raster[:,result],y_test)\n",
    "print(\"Number of Features: \", len(result), \"Accuracy: \",accuracy_erocket_modified)"
   ]
  },
  {
   "cell_type": "code",
   "execution_count": null,
   "id": "05c63f29-64f6-44e7-9a31-2a1782ab1fc3",
   "metadata": {},
   "outputs": [],
   "source": []
  }
 ],
 "metadata": {
  "kernelspec": {
   "display_name": "Python 3 (ipykernel)",
   "language": "python",
   "name": "python3"
  },
  "language_info": {
   "codemirror_mode": {
    "name": "ipython",
    "version": 3
   },
   "file_extension": ".py",
   "mimetype": "text/x-python",
   "name": "python",
   "nbconvert_exporter": "python",
   "pygments_lexer": "ipython3",
   "version": "3.9.13"
  }
 },
 "nbformat": 4,
 "nbformat_minor": 5
}
